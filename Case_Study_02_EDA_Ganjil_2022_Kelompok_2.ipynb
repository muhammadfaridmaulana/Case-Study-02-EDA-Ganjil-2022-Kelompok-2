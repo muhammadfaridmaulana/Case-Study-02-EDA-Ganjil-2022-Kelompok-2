{
  "nbformat": 4,
  "nbformat_minor": 0,
  "metadata": {
    "colab": {
      "provenance": [],
      "collapsed_sections": [],
      "authorship_tag": "ABX9TyN4RjzI5uYelPay3UlahUH4",
      "include_colab_link": true
    },
    "kernelspec": {
      "name": "python3",
      "display_name": "Python 3"
    },
    "language_info": {
      "name": "python"
    }
  },
  "cells": [
    {
      "cell_type": "markdown",
      "metadata": {
        "id": "view-in-github",
        "colab_type": "text"
      },
      "source": [
        "<a href=\"https://colab.research.google.com/github/muhammadfaridmaulana/Case-Study-02-EDA-Ganjil-2022-Kelompok-2/blob/main/Case_Study_02_EDA_Ganjil_2022_Kelompok_2.ipynb\" target=\"_parent\"><img src=\"https://colab.research.google.com/assets/colab-badge.svg\" alt=\"Open In Colab\"/></a>"
      ]
    },
    {
      "cell_type": "markdown",
      "source": [
        "\n",
        "###Case Study 02 EDA - Ganjil 2022 Kelompok 2\n",
        "\n",
        "###Kelompok 2 \n",
        "\n",
        "###Ketua : Muhammad Farid Maulana (1210940000039)\n",
        "\n",
        "###Anggota : \n",
        "\n",
        "###1. Zahra Khotimah (11210940000003)\n",
        "###2. Agung Taruna Yudho Pratama (11210940000004)\n",
        "###3. Antya Alhikmah Alham (11210940000033)\n",
        "###4. Fanny Wahyu Aprilia (11210940000037)\n",
        "###5. Aisyah Nuraini(11210940000030)\n",
        "\n",
        "###Link Url google collabs dari repository github : https://colab.research.google.com/github/muhammadfaridmaulana/Case-Study-02-EDA-Ganjil-2022-Kelompok-2/blob/main/Case_Study_02_EDA_Ganjil_2022_Kelompok_2.ipynb"
      ],
      "metadata": {
        "id": "XqKAwEMRdBYb"
      }
    },
    {
      "cell_type": "code",
      "source": [
        "import pandas as pd\n",
        "\n",
        "mengajar = pd.read_csv('mengajar.csv', encoding='utf8')\n",
        "dosen = pd.read_csv('tb_dosen.csv', encoding='utf8')\n",
        "kelas = pd.read_csv('tb_kelas.csv', encoding='utf8')\n",
        "krs = pd.read_csv('tb_krs.csv', encoding='utf8')\n",
        "mahasiswa = pd.read_csv('tb_mahasiswa.csv', encoding='utf8')\n",
        "matkul = pd.read_csv('tb_mata_kuliah.csv', encoding='utf8')\n",
        "nilai = pd.read_csv('tb_nilai.csv', encoding='utf8')\n",
        "\n",
        "mengajar.shape, dosen.shape, kelas.shape, krs.shape, mahasiswa.shape, matkul.shape, nilai.shape"
      ],
      "metadata": {
        "id": "HGSfwb_o3LFO",
        "outputId": "403995bc-ec58-43c2-c518-74021d208b75",
        "colab": {
          "base_uri": "https://localhost:8080/"
        }
      },
      "execution_count": 1,
      "outputs": [
        {
          "output_type": "execute_result",
          "data": {
            "text/plain": [
              "((14, 4), (4, 6), (4, 4), (7, 6), (15, 8), (9, 3), (33, 7))"
            ]
          },
          "metadata": {},
          "execution_count": 1
        }
      ]
    },
    {
      "cell_type": "code",
      "source": [],
      "metadata": {
        "id": "J8_AuWjK3K6u"
      },
      "execution_count": null,
      "outputs": []
    },
    {
      "cell_type": "code",
      "source": [],
      "metadata": {
        "id": "sGN3go6i3Kt3"
      },
      "execution_count": null,
      "outputs": []
    }
  ]
}