{
  "nbformat": 4,
  "nbformat_minor": 0,
  "metadata": {
    "colab": {
      "provenance": [],
      "collapsed_sections": [],
      "authorship_tag": "ABX9TyM12xZTmJTmainzGHI0J6TI",
      "include_colab_link": true
    },
    "kernelspec": {
      "name": "python3",
      "display_name": "Python 3"
    },
    "language_info": {
      "name": "python"
    }
  },
  "cells": [
    {
      "cell_type": "markdown",
      "metadata": {
        "id": "view-in-github",
        "colab_type": "text"
      },
      "source": [
        "<a href=\"https://colab.research.google.com/github/muhammadfaridmaulana/Case-Study-02-EDA-Ganjil-2022-Kelompok-2/blob/main/Case_Study_02_EDA_Ganjil_2022_Kelompok_2.ipynb\" target=\"_parent\"><img src=\"https://colab.research.google.com/assets/colab-badge.svg\" alt=\"Open In Colab\"/></a>"
      ]
    },
    {
      "cell_type": "code",
      "execution_count": 1,
      "metadata": {
        "id": "aZgDigaL3SaZ"
      },
      "outputs": [],
      "source": [
        "#asdadadadasdasdadadas"
      ]
    },
    {
      "cell_type": "code",
      "source": [
        "#asdadads\n",
        "\n",
        "print('hello world !')"
      ],
      "metadata": {
        "id": "m9b7a2thBVzJ",
        "outputId": "2ee9496b-3be6-4df0-d6c2-0142eee1c578",
        "colab": {
          "base_uri": "https://localhost:8080/"
        }
      },
      "execution_count": 2,
      "outputs": [
        {
          "output_type": "stream",
          "name": "stdout",
          "text": [
            "hello world !\n"
          ]
        }
      ]
    }
  ]
}